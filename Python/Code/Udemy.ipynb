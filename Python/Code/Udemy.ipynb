{
 "cells": [
  {
   "cell_type": "code",
   "execution_count": 4,
   "id": "fc59a241-213e-4c10-8023-e41b66520d75",
   "metadata": {},
   "outputs": [
    {
     "name": "stdout",
     "output_type": "stream",
     "text": [
      "E\n",
      "G\n",
      "N\n",
      "NIERN\n",
      "GINEERING\n",
      "ENG\n",
      "INE\n",
      "engineering\n",
      "['hello', 'world']\n",
      "['hell', ' w', 'rld']\n"
     ]
    }
   ],
   "source": [
    "# String Slicing, Indexing and Methods\n",
    "ch = \"ENGINEERING\" \n",
    "a = 'hello world'\n",
    "print(ch[0])\n",
    "print(ch[-1])\n",
    "print(ch[4])\n",
    "print(ch[1:12:2])\n",
    "print(ch[2:])\n",
    "print(ch[:3])\n",
    "print(ch[3:6])\n",
    "print(ch.lower())\n",
    "print(a.split())\n",
    "print(a.split('o'))"
   ]
  },
  {
   "cell_type": "code",
   "execution_count": 5,
   "id": "fc5bfe1e-4a12-43ff-a1cc-eef650ffd14b",
   "metadata": {},
   "outputs": [
    {
     "name": "stdout",
     "output_type": "stream",
     "text": [
      "pam\n",
      "sam5\n"
     ]
    }
   ],
   "source": [
    "# String Concatenation\n",
    "name = 'sam'\n",
    "ll = name[1:]\n",
    "print('p' + ll)\n",
    "print(name + '5')"
   ]
  },
  {
   "cell_type": "code",
   "execution_count": 6,
   "id": "080af4e8-617e-44bf-9863-5ec5815b8016",
   "metadata": {},
   "outputs": [
    {
     "name": "stdout",
     "output_type": "stream",
     "text": [
      "value1\n",
      "[0, 1, 2]\n",
      "2\n",
      "{'inside': 100}\n",
      "100\n",
      "{'k1': 123, 'k2': [0, 1, 2], 'k3': {'inside': 100}, 'k4': 400}\n",
      "['a', 'b', 'c']\n",
      "c\n"
     ]
    }
   ],
   "source": [
    "# Dictionaries\n",
    "my_dict = {'key1':'value1','key2':'values2'}\n",
    "print(my_dict['key1'])\n",
    "d = {'k1':123,'k2':[0,1,2],'k3':{'inside':100}}\n",
    "print(d['k2'])\n",
    "print(d['k2'][2])\n",
    "print(d['k3'])\n",
    "print(d['k3']['inside'])\n",
    "d['k4'] = 400 # adding a new element to the dictionary\n",
    "print(d) \n",
    "d1 = {'k1':['a','b','c']}\n",
    "print(d1['k1'])\n",
    "print(d1['k1'][2])"
   ]
  },
  {
   "cell_type": "code",
   "execution_count": 7,
   "id": "fe8e0a77-4807-46fd-bf28-39a3d76e8e50",
   "metadata": {},
   "outputs": [
    {
     "name": "stdout",
     "output_type": "stream",
     "text": [
      "1\n",
      "1\n",
      "1\n"
     ]
    }
   ],
   "source": [
    "# Tuples\n",
    "t = (1,2,3)\n",
    "t1 = ('one',2,3)\n",
    "print(t[0])\n",
    "print(t.count(1))\n",
    "print(t.index(2))"
   ]
  },
  {
   "cell_type": "code",
   "execution_count": 8,
   "id": "935ad79c-1c0f-498f-8606-c77d6b60e746",
   "metadata": {},
   "outputs": [
    {
     "name": "stdout",
     "output_type": "stream",
     "text": [
      "{1, 2}\n"
     ]
    }
   ],
   "source": [
    "# Sets\n",
    "myset = set()\n",
    "myset.add(1)\n",
    "myset.add(2)\n",
    "myset.add(2)\n",
    "print(myset)"
   ]
  },
  {
   "cell_type": "code",
   "execution_count": 9,
   "id": "d0c4d117-3685-48d6-957a-03d366a74125",
   "metadata": {},
   "outputs": [
    {
     "name": "stdout",
     "output_type": "stream",
     "text": [
      "<class 'bool'>\n",
      "<class 'bool'>\n",
      "False\n",
      "True\n"
     ]
    }
   ],
   "source": [
    "# Booleans\n",
    "print(type(True))\n",
    "print(type(False))\n",
    "print(1>2)\n",
    "print(2==2)"
   ]
  },
  {
   "cell_type": "code",
   "execution_count": 10,
   "id": "8930ccc6-b4ce-4871-8375-044d5dde26f0",
   "metadata": {},
   "outputs": [
    {
     "name": "stdout",
     "output_type": "stream",
     "text": [
      "True\n",
      "True\n",
      "False\n",
      "False\n"
     ]
    }
   ],
   "source": [
    "# Comparison Operators\n",
    "print(2==2)\n",
    "print(2>1)\n",
    "print(2<1)\n",
    "print(1<2>3)"
   ]
  },
  {
   "cell_type": "code",
   "execution_count": 11,
   "id": "1c2de814-bb03-4819-8f2b-6ecd6957a33a",
   "metadata": {},
   "outputs": [
    {
     "name": "stdout",
     "output_type": "stream",
     "text": [
      "you are fucking kiddo\n"
     ]
    }
   ],
   "source": [
    "# Control statements \n",
    "age = 17\n",
    "if age>=20:\n",
    "    print('You are a major')\n",
    "elif age==19:\n",
    "    print('You are about to be a major')    \n",
    "else:\n",
    "    print('you are fucking kiddo')    "
   ]
  },
  {
   "cell_type": "code",
   "execution_count": 12,
   "id": "61caf480-99e1-438d-b95e-ca2f0a2979ef",
   "metadata": {},
   "outputs": [
    {
     "name": "stdout",
     "output_type": "stream",
     "text": [
      "69\n",
      "2\n",
      "3\n",
      "Odd Number: 69\n",
      "2\n",
      "Odd Number: 3\n",
      "74\n",
      "H\n",
      "e\n",
      "l\n",
      "l\n",
      "o\n",
      "1\n",
      "2\n",
      "3\n",
      "(1, 2)\n",
      "(3, 4)\n",
      "(5, 6)\n",
      "1\n",
      "2\n",
      "3\n",
      "4\n",
      "5\n",
      "6\n",
      "3\n",
      "k1\n",
      "k2\n",
      "k3\n",
      "k1\n",
      "1\n",
      "k2\n",
      "2\n",
      "k3\n",
      "3\n",
      "Value is:0\n",
      "Value is:1\n",
      "Value is:2\n",
      "Value is:3\n",
      "Value is:4\n",
      "pass hogaya\n",
      "k\n",
      "u\n",
      "c\n",
      "h\n",
      "i\n",
      "k\n",
      "u\n"
     ]
    }
   ],
   "source": [
    "# Looping Statements\n",
    "# For-loop\n",
    "mylist = [69,2,3]\n",
    "for item in mylist:\n",
    "    print(item)\n",
    "  # printing only even numbers    \n",
    "for num in mylist:\n",
    "    if num%2==0:\n",
    "        print(num)    \n",
    "    else:\n",
    "        print(f'Odd Number: {num}')  \n",
    "   # printing the list sum \n",
    "list_sum = 0\n",
    "for num in mylist:\n",
    "    list_sum=list_sum+num\n",
    "print(list_sum)   \n",
    "    # for-loop in strings\n",
    "str = 'Hello'\n",
    "for c in str:\n",
    "    print(c)   \n",
    "    # for-loop in tuples\n",
    "tup = (1,2,3)\n",
    "for item in tup:\n",
    "    print(item)\n",
    "     # tuple unpacking\n",
    "mlist = [(1,2),(3,4),(5,6)]\n",
    "for loud in mlist:\n",
    "    print(loud)\n",
    "for (a,b) in mlist:\n",
    "    print(a)\n",
    "    print(b)\n",
    "print(len(mlist))   \n",
    "    # for-loop in dictionaries\n",
    "d = {'k1':1,'k2':2,'k3':3}\n",
    "for bsdk in d:\n",
    "    print(bsdk)\n",
    "for key,value in d.items():\n",
    "    print(key)\n",
    "    print(value)    \n",
    "# While-loop\n",
    "x = 0\n",
    "while x<5:\n",
    "    print(f'Value is:{x}')\n",
    "    x+=1\n",
    "  # pass keyword\n",
    "x = [1,2]\n",
    "for ko in x:\n",
    "    pass\n",
    "print('pass hogaya')     \n",
    "    # continue keyword\n",
    "str='kurchi'\n",
    "for l in str:\n",
    "    if l=='r':\n",
    "        continue\n",
    "    print(l)\n",
    "    # break keyword\n",
    "for l in str:\n",
    "    if l=='r':\n",
    "        break\n",
    "    print(l)    "
   ]
  },
  {
   "cell_type": "code",
   "execution_count": 13,
   "id": "5c98b6a1-389b-4f5e-bb84-d28491a3eecf",
   "metadata": {},
   "outputs": [
    {
     "name": "stdout",
     "output_type": "stream",
     "text": [
      "0\n",
      "2\n",
      "4\n",
      "6\n",
      "8\n",
      "0\n",
      "a\n",
      "1\n",
      "b\n",
      "2\n",
      "c\n",
      "3\n",
      "d\n",
      "4\n",
      "e\n",
      "(1, 'a')\n",
      "(2, 'b')\n",
      "[1, 2, 5, 7, 6, 3]\n",
      "4\n"
     ]
    }
   ],
   "source": [
    "# Some important functions in py\n",
    "    # range()\n",
    "for num in range(0,10,2):\n",
    "    print(num)\n",
    "    # enumerate\n",
    "word='abcde'\n",
    "for index,letter in enumerate(word):\n",
    "    print(index)\n",
    "    print(letter)\n",
    "    # zip\n",
    "a = [1,2]\n",
    "b = ['a','b']\n",
    "for i in zip(a,b):\n",
    "    print(i)\n",
    "    # shuffle()\n",
    "from random import shuffle\n",
    "puka = [2,1,3,5,6,7]\n",
    "shuffle(puka)\n",
    "print(puka)\n",
    "    # randint\n",
    "from random import randint\n",
    "int = randint(0,10)\n",
    "print(int)"
   ]
  },
  {
   "cell_type": "code",
   "execution_count": 14,
   "id": "8402b730-494b-4152-824b-a2a296dd34c8",
   "metadata": {},
   "outputs": [
    {
     "name": "stdout",
     "output_type": "stream",
     "text": [
      "[0, 1, 4, 9, 16, 25, 36, 49, 64, 81, 100]\n",
      "[68.0, 95.0, 104.0]\n"
     ]
    }
   ],
   "source": [
    "# List Comprehensions\n",
    "l = [num**2 for num in range(0,11)]\n",
    "print(l)\n",
    "celcius = [20,35,40]\n",
    "fahrenheit = [((9/5)*temp+32) for temp in celcius]\n",
    "print(fahrenheit)"
   ]
  },
  {
   "cell_type": "code",
   "execution_count": 15,
   "id": "b41ce0cc-83bc-44c4-ad82-65e8c2d7fc20",
   "metadata": {},
   "outputs": [
    {
     "name": "stdout",
     "output_type": "stream",
     "text": [
      "Hello Vishnu\n",
      "5\n"
     ]
    }
   ],
   "source": [
    "# Functions\n",
    "def greet(name):\n",
    "    print(\"Hello\"+\" \"+name)\n",
    "greet(\"Vishnu\")\n",
    "def sum(a,b):\n",
    "    return a+b\n",
    "result = sum(2,3)\n",
    "print(result)       "
   ]
  },
  {
   "cell_type": "code",
   "execution_count": 16,
   "id": "f396b0f0-083c-434d-b56e-f66064a17b5d",
   "metadata": {},
   "outputs": [
    {
     "name": "stdout",
     "output_type": "stream",
     "text": [
      "AAPL\n",
      "400\n",
      "GOOG\n",
      "200\n",
      "MSFT\n",
      "300\n",
      "('Abby', 400)\n",
      "[1, 3, 4, 2]\n"
     ]
    }
   ],
   "source": [
    "#tuple unpacking using functions\n",
    "# normal zindagi\n",
    "stock = [('AAPL',400),('GOOG',200),('MSFT',300)]\n",
    "for ticker,item in stock:\n",
    "    print(ticker)\n",
    "    print(item)           #tuple unpacking\n",
    "# mentos zindagi\n",
    "work = [('Abby',400),('Gary',200),('Marnus',300)]\n",
    "def emp_c(work):\n",
    "    current_max=0\n",
    "    employee_m=''\n",
    "    for employee,hours in work:\n",
    "        if hours > current_max:\n",
    "             current_max=hours\n",
    "             employee_m=employee\n",
    "        else:\n",
    "            pass  \n",
    "    return (employee_m,current_max)\n",
    "print(emp_c(work)) # it'll return the person with more work hours\n",
    "# how to use shuffle function???\n",
    "exp = [1,2,3,4]\n",
    "from random import shuffle\n",
    "def slist(list):\n",
    "    shuffle(list)\n",
    "    return list\n",
    "result=slist(exp)\n",
    "print(result)"
   ]
  },
  {
   "cell_type": "code",
   "execution_count": null,
   "id": "52c2c8c0-04e5-4345-8bf8-7c1722c95893",
   "metadata": {},
   "outputs": [],
   "source": [
    "# 3 CUP MONTE\n",
    "mlist = ['', 'O', '']\n",
    "shuffle(mlist)  # shuffle the list in-place\n",
    "def player_guess():\n",
    "     user_guess = ''\n",
    "     while user_guess not in ['0', '1', '2']:\n",
    "         user_guess = input('Pick a number b/w 0, 1, 2: ')\n",
    "     return user_guess\n",
    "myindex = player_guess()\n",
    "print(myindex)\n",
    "def check_guess(mlist, myindex):\n",
    "     # Convert myindex to an integer\n",
    "     myindex_int = myindex\n",
    "     if mlist[myindex_int] == 'O':\n",
    "         print('correct')\n",
    "     else:\n",
    "         print('wrong')\n",
    "check_guess(mlist, myindex)  # use the same list variable"
   ]
  },
  {
   "cell_type": "code",
   "execution_count": null,
   "id": "a7c3b627-aa79-44c8-ad06-7e0eaa91fc93",
   "metadata": {},
   "outputs": [],
   "source": [
    "# *ARGS AND **KWARGS\n",
    "def myfunc(*args):\n",
    "    return sum(args) # type: ignore\n",
    "def my(**kwargs):\n",
    "    print(kwargs)\n",
    "    if 'fruit' in kwargs:\n",
    "        print(\"It is {}\".format(kwargs['fruit']))\n",
    "    else:\n",
    "        print('Nahi Maalum')\n",
    "my(fruit='apple')          \n",
    "# Combination of both args and kwargs\n",
    "def myfun(*args,**kwargs):\n",
    "    print(args) # it gives a tuple\n",
    "    print(kwargs) # it gives a dictionary\n",
    "    print('I have {} {}'.format(args[0],kwargs['fruit']))\n",
    "myfun(10,20,30,fruit='apple') \n",
    "# EXAMPLE  \n",
    "def exp1(*args):\n",
    "    even_list = []\n",
    "    for num in args:\n",
    "        if num % 2 == 0:\n",
    "            even_list.append(num)\n",
    "    return even_list\n",
    "print(exp1(1,2,3,4,5,6))\n",
    "def exp2(s):\n",
    "    result = \"\"\n",
    "    for index, letter in enumerate(s):\n",
    "        if index % 2 == 0:\n",
    "            result += letter.lower()\n",
    "        else:\n",
    "            result += letter.upper()\n",
    "    return result\n",
    "print(exp2('India'))"
   ]
  },
  {
   "cell_type": "code",
   "execution_count": null,
   "id": "e70a4e78-620b-4975-be4c-6a8eea63f1ff",
   "metadata": {},
   "outputs": [],
   "source": [
    "# Generators\n",
    "print(\"Generators\")\n",
    "def create_cubes(n):\n",
    "    # Using normal function\n",
    "    # result=[]\n",
    "    # for x in range(n):\n",
    "    #     result.append(x**3)\n",
    "    # return result\n",
    "    # another way using generators\n",
    "    for x in range(n):\n",
    "        yield x**3\n",
    "for x in create_cubes(10):\n",
    "    print(x)\n",
    "def fibo(n):\n",
    "    a=1\n",
    "    b=1\n",
    "    for i in range(n):\n",
    "        yield a\n",
    "        a,b = b,a+b\n",
    "for num in fibo(10):\n",
    "    print(num)\n",
    "# For Strings\n",
    "s = 'hello'\n",
    "s_iter = iter(s)\n",
    "print(next(s_iter))\n",
    "print(next(s_iter))\n",
    "print(next(s_iter))\n",
    "print(next(s_iter))\n",
    "print(next(s_iter))\n",
    "# for l in s:\n",
    "#     print(l)\n",
    "list = [1,2,3,4,5]\n",
    "gencomp = (item for item in list if item > 3)\n",
    "for item in gencomp:\n",
    "    print(item)"
   ]
  },
  {
   "cell_type": "code",
   "execution_count": null,
   "id": "6869f8f8-b2bd-4bf3-a7d5-6514ea93cd19",
   "metadata": {},
   "outputs": [],
   "source": []
  },
  {
   "cell_type": "code",
   "execution_count": null,
   "id": "dcbd43b0-53d8-4bd8-ac41-0d89d25100fa",
   "metadata": {},
   "outputs": [],
   "source": []
  },
  {
   "cell_type": "code",
   "execution_count": null,
   "id": "65fe9968-907a-4ba4-a891-85119c0a5a09",
   "metadata": {},
   "outputs": [],
   "source": []
  },
  {
   "cell_type": "code",
   "execution_count": null,
   "id": "76c6234c-0f17-4bea-b5e2-5ece46c44e2e",
   "metadata": {},
   "outputs": [],
   "source": []
  },
  {
   "cell_type": "code",
   "execution_count": null,
   "id": "3f8eb237-524a-454b-999d-9a7e51ae97ed",
   "metadata": {},
   "outputs": [],
   "source": []
  },
  {
   "cell_type": "code",
   "execution_count": null,
   "id": "eae22da5-a8dd-47df-8ca5-9bdb728a89f6",
   "metadata": {},
   "outputs": [],
   "source": []
  },
  {
   "cell_type": "code",
   "execution_count": null,
   "id": "e071a0c3-1580-4b17-8b62-022bed6ea4df",
   "metadata": {},
   "outputs": [],
   "source": []
  },
  {
   "cell_type": "code",
   "execution_count": null,
   "id": "05fffb9d-8f34-4b74-a6e9-33bec44637a9",
   "metadata": {},
   "outputs": [],
   "source": []
  },
  {
   "cell_type": "code",
   "execution_count": null,
   "id": "2ef4a1f7-71f4-4958-90b9-1b378af17daf",
   "metadata": {},
   "outputs": [],
   "source": []
  },
  {
   "cell_type": "code",
   "execution_count": null,
   "id": "70acd76c-201c-4bb8-9919-a50bd4d2305b",
   "metadata": {},
   "outputs": [],
   "source": []
  }
 ],
 "metadata": {
  "kernelspec": {
   "display_name": "Python 3 (ipykernel)",
   "language": "python",
   "name": "python3"
  },
  "language_info": {
   "codemirror_mode": {
    "name": "ipython",
    "version": 3
   },
   "file_extension": ".py",
   "mimetype": "text/x-python",
   "name": "python",
   "nbconvert_exporter": "python",
   "pygments_lexer": "ipython3",
   "version": "3.12.0"
  }
 },
 "nbformat": 4,
 "nbformat_minor": 5
}
