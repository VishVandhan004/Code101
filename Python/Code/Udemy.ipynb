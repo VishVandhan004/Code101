{
 "cells": [
  {
   "cell_type": "code",
   "execution_count": 4,
   "id": "fc59a241-213e-4c10-8023-e41b66520d75",
   "metadata": {},
   "outputs": [
    {
     "name": "stdout",
     "output_type": "stream",
     "text": [
      "E\n",
      "G\n",
      "N\n",
      "NIERN\n",
      "GINEERING\n",
      "ENG\n",
      "INE\n",
      "engineering\n",
      "['hello', 'world']\n",
      "['hell', ' w', 'rld']\n"
     ]
    }
   ],
   "source": [
    "# String Slicing, Indexing and Methods\n",
    "ch = \"ENGINEERING\" \n",
    "a = 'hello world'\n",
    "print(ch[0])\n",
    "print(ch[-1])\n",
    "print(ch[4])\n",
    "print(ch[1:12:2])\n",
    "print(ch[2:])\n",
    "print(ch[:3])\n",
    "print(ch[3:6])\n",
    "print(ch.lower())\n",
    "print(a.split())\n",
    "print(a.split('o'))"
   ]
  },
  {
   "cell_type": "code",
   "execution_count": 5,
   "id": "fc5bfe1e-4a12-43ff-a1cc-eef650ffd14b",
   "metadata": {},
   "outputs": [
    {
     "name": "stdout",
     "output_type": "stream",
     "text": [
      "pam\n",
      "sam5\n"
     ]
    }
   ],
   "source": [
    "# String Concatenation\n",
    "name = 'sam'\n",
    "ll = name[1:]\n",
    "print('p' + ll)\n",
    "print(name + '5')"
   ]
  },
  {
   "cell_type": "code",
   "execution_count": 6,
   "id": "080af4e8-617e-44bf-9863-5ec5815b8016",
   "metadata": {},
   "outputs": [
    {
     "name": "stdout",
     "output_type": "stream",
     "text": [
      "value1\n",
      "[0, 1, 2]\n",
      "2\n",
      "{'inside': 100}\n",
      "100\n",
      "{'k1': 123, 'k2': [0, 1, 2], 'k3': {'inside': 100}, 'k4': 400}\n",
      "['a', 'b', 'c']\n",
      "c\n"
     ]
    }
   ],
   "source": [
    "# Dictionaries\n",
    "my_dict = {'key1':'value1','key2':'values2'}\n",
    "print(my_dict['key1'])\n",
    "d = {'k1':123,'k2':[0,1,2],'k3':{'inside':100}}\n",
    "print(d['k2'])\n",
    "print(d['k2'][2])\n",
    "print(d['k3'])\n",
    "print(d['k3']['inside'])\n",
    "d['k4'] = 400 # adding a new element to the dictionary\n",
    "print(d) \n",
    "d1 = {'k1':['a','b','c']}\n",
    "print(d1['k1'])\n",
    "print(d1['k1'][2])"
   ]
  },
  {
   "cell_type": "code",
   "execution_count": 7,
   "id": "fe8e0a77-4807-46fd-bf28-39a3d76e8e50",
   "metadata": {},
   "outputs": [
    {
     "name": "stdout",
     "output_type": "stream",
     "text": [
      "1\n",
      "1\n",
      "1\n"
     ]
    }
   ],
   "source": [
    "# Tuples\n",
    "t = (1,2,3)\n",
    "t1 = ('one',2,3)\n",
    "print(t[0])\n",
    "print(t.count(1))\n",
    "print(t.index(2))"
   ]
  },
  {
   "cell_type": "code",
   "execution_count": 8,
   "id": "935ad79c-1c0f-498f-8606-c77d6b60e746",
   "metadata": {},
   "outputs": [
    {
     "name": "stdout",
     "output_type": "stream",
     "text": [
      "{1, 2}\n"
     ]
    }
   ],
   "source": [
    "# Sets\n",
    "myset = set()\n",
    "myset.add(1)\n",
    "myset.add(2)\n",
    "myset.add(2)\n",
    "print(myset)"
   ]
  },
  {
   "cell_type": "code",
   "execution_count": 9,
   "id": "d0c4d117-3685-48d6-957a-03d366a74125",
   "metadata": {},
   "outputs": [
    {
     "name": "stdout",
     "output_type": "stream",
     "text": [
      "<class 'bool'>\n",
      "<class 'bool'>\n",
      "False\n",
      "True\n"
     ]
    }
   ],
   "source": [
    "# Booleans\n",
    "print(type(True))\n",
    "print(type(False))\n",
    "print(1>2)\n",
    "print(2==2)"
   ]
  },
  {
   "cell_type": "code",
   "execution_count": 10,
   "id": "8930ccc6-b4ce-4871-8375-044d5dde26f0",
   "metadata": {},
   "outputs": [
    {
     "name": "stdout",
     "output_type": "stream",
     "text": [
      "True\n",
      "True\n",
      "False\n",
      "False\n"
     ]
    }
   ],
   "source": [
    "# Comparison Operators\n",
    "print(2==2)\n",
    "print(2>1)\n",
    "print(2<1)\n",
    "print(1<2>3)"
   ]
  },
  {
   "cell_type": "code",
   "execution_count": 11,
   "id": "1c2de814-bb03-4819-8f2b-6ecd6957a33a",
   "metadata": {},
   "outputs": [
    {
     "name": "stdout",
     "output_type": "stream",
     "text": [
      "you are fucking kiddo\n"
     ]
    }
   ],
   "source": [
    "# Control statements \n",
    "age = 17\n",
    "if age>=20:\n",
    "    print('You are a major')\n",
    "elif age==19:\n",
    "    print('You are about to be a major')    \n",
    "else:\n",
    "    print('you are fucking kiddo')    "
   ]
  },
  {
   "cell_type": "code",
   "execution_count": 12,
   "id": "61caf480-99e1-438d-b95e-ca2f0a2979ef",
   "metadata": {},
   "outputs": [
    {
     "name": "stdout",
     "output_type": "stream",
     "text": [
      "69\n",
      "2\n",
      "3\n",
      "Odd Number: 69\n",
      "2\n",
      "Odd Number: 3\n",
      "74\n",
      "H\n",
      "e\n",
      "l\n",
      "l\n",
      "o\n",
      "1\n",
      "2\n",
      "3\n",
      "(1, 2)\n",
      "(3, 4)\n",
      "(5, 6)\n",
      "1\n",
      "2\n",
      "3\n",
      "4\n",
      "5\n",
      "6\n",
      "3\n",
      "k1\n",
      "k2\n",
      "k3\n",
      "k1\n",
      "1\n",
      "k2\n",
      "2\n",
      "k3\n",
      "3\n",
      "Value is:0\n",
      "Value is:1\n",
      "Value is:2\n",
      "Value is:3\n",
      "Value is:4\n",
      "pass hogaya\n",
      "k\n",
      "u\n",
      "c\n",
      "h\n",
      "i\n",
      "k\n",
      "u\n"
     ]
    }
   ],
   "source": [
    "# Looping Statements\n",
    "# For-loop\n",
    "mylist = [69,2,3]\n",
    "for item in mylist:\n",
    "    print(item)\n",
    "  # printing only even numbers    \n",
    "for num in mylist:\n",
    "    if num%2==0:\n",
    "        print(num)    \n",
    "    else:\n",
    "        print(f'Odd Number: {num}')  \n",
    "   # printing the list sum \n",
    "list_sum = 0\n",
    "for num in mylist:\n",
    "    list_sum=list_sum+num\n",
    "print(list_sum)   \n",
    "    # for-loop in strings\n",
    "str = 'Hello'\n",
    "for c in str:\n",
    "    print(c)   \n",
    "    # for-loop in tuples\n",
    "tup = (1,2,3)\n",
    "for item in tup:\n",
    "    print(item)\n",
    "     # tuple unpacking\n",
    "mlist = [(1,2),(3,4),(5,6)]\n",
    "for loud in mlist:\n",
    "    print(loud)\n",
    "for (a,b) in mlist:\n",
    "    print(a)\n",
    "    print(b)\n",
    "print(len(mlist))   \n",
    "    # for-loop in dictionaries\n",
    "d = {'k1':1,'k2':2,'k3':3}\n",
    "for bsdk in d:\n",
    "    print(bsdk)\n",
    "for key,value in d.items():\n",
    "    print(key)\n",
    "    print(value)    \n",
    "# While-loop\n",
    "x = 0\n",
    "while x<5:\n",
    "    print(f'Value is:{x}')\n",
    "    x+=1\n",
    "  # pass keyword\n",
    "x = [1,2]\n",
    "for ko in x:\n",
    "    pass\n",
    "print('pass hogaya')     \n",
    "    # continue keyword\n",
    "str='kurchi'\n",
    "for l in str:\n",
    "    if l=='r':\n",
    "        continue\n",
    "    print(l)\n",
    "    # break keyword\n",
    "for l in str:\n",
    "    if l=='r':\n",
    "        break\n",
    "    print(l)    "
   ]
  },
  {
   "cell_type": "code",
   "execution_count": 13,
   "id": "5c98b6a1-389b-4f5e-bb84-d28491a3eecf",
   "metadata": {},
   "outputs": [
    {
     "name": "stdout",
     "output_type": "stream",
     "text": [
      "0\n",
      "2\n",
      "4\n",
      "6\n",
      "8\n",
      "0\n",
      "a\n",
      "1\n",
      "b\n",
      "2\n",
      "c\n",
      "3\n",
      "d\n",
      "4\n",
      "e\n",
      "(1, 'a')\n",
      "(2, 'b')\n",
      "[1, 2, 5, 7, 6, 3]\n",
      "4\n"
     ]
    }
   ],
   "source": [
    "# Some important functions in py\n",
    "    # range()\n",
    "for num in range(0,10,2):\n",
    "    print(num)\n",
    "    # enumerate\n",
    "word='abcde'\n",
    "for index,letter in enumerate(word):\n",
    "    print(index)\n",
    "    print(letter)\n",
    "    # zip\n",
    "a = [1,2]\n",
    "b = ['a','b']\n",
    "for i in zip(a,b):\n",
    "    print(i)\n",
    "    # shuffle()\n",
    "from random import shuffle\n",
    "puka = [2,1,3,5,6,7]\n",
    "shuffle(puka)\n",
    "print(puka)\n",
    "    # randint\n",
    "from random import randint\n",
    "int = randint(0,10)\n",
    "print(int)"
   ]
  },
  {
   "cell_type": "code",
   "execution_count": 14,
   "id": "8402b730-494b-4152-824b-a2a296dd34c8",
   "metadata": {},
   "outputs": [
    {
     "name": "stdout",
     "output_type": "stream",
     "text": [
      "[0, 1, 4, 9, 16, 25, 36, 49, 64, 81, 100]\n",
      "[68.0, 95.0, 104.0]\n"
     ]
    }
   ],
   "source": [
    "# List Comprehensions\n",
    "l = [num**2 for num in range(0,11)]\n",
    "print(l)\n",
    "celcius = [20,35,40]\n",
    "fahrenheit = [((9/5)*temp+32) for temp in celcius]\n",
    "print(fahrenheit)"
   ]
  },
  {
   "cell_type": "code",
   "execution_count": 15,
   "id": "b41ce0cc-83bc-44c4-ad82-65e8c2d7fc20",
   "metadata": {},
   "outputs": [
    {
     "name": "stdout",
     "output_type": "stream",
     "text": [
      "Hello Vishnu\n",
      "5\n"
     ]
    }
   ],
   "source": [
    "# Functions\n",
    "def greet(name):\n",
    "    print(\"Hello\"+\" \"+name)\n",
    "greet(\"Vishnu\")\n",
    "def sum(a,b):\n",
    "    return a+b\n",
    "result = sum(2,3)\n",
    "print(result)       "
   ]
  },
  {
   "cell_type": "code",
   "execution_count": 16,
   "id": "f396b0f0-083c-434d-b56e-f66064a17b5d",
   "metadata": {},
   "outputs": [
    {
     "name": "stdout",
     "output_type": "stream",
     "text": [
      "AAPL\n",
      "400\n",
      "GOOG\n",
      "200\n",
      "MSFT\n",
      "300\n",
      "('Abby', 400)\n",
      "[1, 3, 4, 2]\n"
     ]
    }
   ],
   "source": [
    "#tuple unpacking using functions\n",
    "# normal zindagi\n",
    "stock = [('AAPL',400),('GOOG',200),('MSFT',300)]\n",
    "for ticker,item in stock:\n",
    "    print(ticker)\n",
    "    print(item)           #tuple unpacking\n",
    "# mentos zindagi\n",
    "work = [('Abby',400),('Gary',200),('Marnus',300)]\n",
    "def emp_c(work):\n",
    "    current_max=0\n",
    "    employee_m=''\n",
    "    for employee,hours in work:\n",
    "        if hours > current_max:\n",
    "             current_max=hours\n",
    "             employee_m=employee\n",
    "        else:\n",
    "            pass  \n",
    "    return (employee_m,current_max)\n",
    "print(emp_c(work)) # it'll return the person with more work hours\n",
    "# how to use shuffle function???\n",
    "exp = [1,2,3,4]\n",
    "from random import shuffle\n",
    "def slist(list):\n",
    "    shuffle(list)\n",
    "    return list\n",
    "result=slist(exp)\n",
    "print(result)"
   ]
  },
  {
   "cell_type": "code",
   "execution_count": 17,
   "id": "52c2c8c0-04e5-4345-8bf8-7c1722c95893",
   "metadata": {},
   "outputs": [
    {
     "name": "stdout",
     "output_type": "stream",
     "text": [
      "Pick a number b/w 0, 1, 2:  0\n"
     ]
    },
    {
     "name": "stdout",
     "output_type": "stream",
     "text": [
      "0\n"
     ]
    },
    {
     "ename": "TypeError",
     "evalue": "list indices must be integers or slices, not str",
     "output_type": "error",
     "traceback": [
      "\u001b[1;31m---------------------------------------------------------------------------\u001b[0m",
      "\u001b[1;31mTypeError\u001b[0m                                 Traceback (most recent call last)",
      "Cell \u001b[1;32mIn[17], line 18\u001b[0m\n\u001b[0;32m     16\u001b[0m      \u001b[38;5;28;01melse\u001b[39;00m:\n\u001b[0;32m     17\u001b[0m          \u001b[38;5;28mprint\u001b[39m(\u001b[38;5;124m'\u001b[39m\u001b[38;5;124mwrong\u001b[39m\u001b[38;5;124m'\u001b[39m)\n\u001b[1;32m---> 18\u001b[0m \u001b[43mcheck_guess\u001b[49m\u001b[43m(\u001b[49m\u001b[43mmlist\u001b[49m\u001b[43m,\u001b[49m\u001b[43m \u001b[49m\u001b[43mmyindex\u001b[49m\u001b[43m)\u001b[49m  \u001b[38;5;66;03m# use the same list variable\u001b[39;00m\n",
      "Cell \u001b[1;32mIn[17], line 14\u001b[0m, in \u001b[0;36mcheck_guess\u001b[1;34m(mlist, myindex)\u001b[0m\n\u001b[0;32m     11\u001b[0m \u001b[38;5;28;01mdef\u001b[39;00m \u001b[38;5;21mcheck_guess\u001b[39m(mlist, myindex):\n\u001b[0;32m     12\u001b[0m      \u001b[38;5;66;03m# Convert myindex to an integer\u001b[39;00m\n\u001b[0;32m     13\u001b[0m      myindex_int \u001b[38;5;241m=\u001b[39m myindex\n\u001b[1;32m---> 14\u001b[0m      \u001b[38;5;28;01mif\u001b[39;00m \u001b[43mmlist\u001b[49m\u001b[43m[\u001b[49m\u001b[43mmyindex_int\u001b[49m\u001b[43m]\u001b[49m \u001b[38;5;241m==\u001b[39m \u001b[38;5;124m'\u001b[39m\u001b[38;5;124mO\u001b[39m\u001b[38;5;124m'\u001b[39m:\n\u001b[0;32m     15\u001b[0m          \u001b[38;5;28mprint\u001b[39m(\u001b[38;5;124m'\u001b[39m\u001b[38;5;124mcorrect\u001b[39m\u001b[38;5;124m'\u001b[39m)\n\u001b[0;32m     16\u001b[0m      \u001b[38;5;28;01melse\u001b[39;00m:\n",
      "\u001b[1;31mTypeError\u001b[0m: list indices must be integers or slices, not str"
     ]
    }
   ],
   "source": [
    "# 3 CUP MONTE\n",
    "mlist = ['', 'O', '']\n",
    "shuffle(mlist)  # shuffle the list in-place\n",
    "def player_guess():\n",
    "     user_guess = ''\n",
    "     while user_guess not in ['0', '1', '2']:\n",
    "         user_guess = input('Pick a number b/w 0, 1, 2: ')\n",
    "     return user_guess\n",
    "myindex = player_guess()\n",
    "print(myindex)\n",
    "def check_guess(mlist, myindex):\n",
    "     # Convert myindex to an integer\n",
    "     myindex_int = myindex\n",
    "     if mlist[myindex_int] == 'O':\n",
    "         print('correct')\n",
    "     else:\n",
    "         print('wrong')\n",
    "check_guess(mlist, myindex)  # use the same list variable"
   ]
  },
  {
   "cell_type": "code",
   "execution_count": 18,
   "id": "a7c3b627-aa79-44c8-ad06-7e0eaa91fc93",
   "metadata": {},
   "outputs": [
    {
     "name": "stdout",
     "output_type": "stream",
     "text": [
      "{'fruit': 'apple'}\n",
      "It is apple\n",
      "(10, 20, 30)\n",
      "{'fruit': 'apple'}\n",
      "I have 10 apple\n",
      "[2, 4, 6]\n",
      "iNdIa\n"
     ]
    }
   ],
   "source": [
    "# *ARGS AND **KWARGS\n",
    "def myfunc(*args):\n",
    "    return sum(args) # type: ignore\n",
    "def my(**kwargs):\n",
    "    print(kwargs)\n",
    "    if 'fruit' in kwargs:\n",
    "        print(\"It is {}\".format(kwargs['fruit']))\n",
    "    else:\n",
    "        print('Nahi Maalum')\n",
    "my(fruit='apple')          \n",
    "# Combination of both args and kwargs\n",
    "def myfun(*args,**kwargs):\n",
    "    print(args) # it gives a tuple\n",
    "    print(kwargs) # it gives a dictionary\n",
    "    print('I have {} {}'.format(args[0],kwargs['fruit']))\n",
    "myfun(10,20,30,fruit='apple') \n",
    "# EXAMPLE  \n",
    "def exp1(*args):\n",
    "    even_list = []\n",
    "    for num in args:\n",
    "        if num % 2 == 0:\n",
    "            even_list.append(num)\n",
    "    return even_list\n",
    "print(exp1(1,2,3,4,5,6))\n",
    "def exp2(s):\n",
    "    result = \"\"\n",
    "    for index, letter in enumerate(s):\n",
    "        if index % 2 == 0:\n",
    "            result += letter.lower()\n",
    "        else:\n",
    "            result += letter.upper()\n",
    "    return result\n",
    "print(exp2('India'))"
   ]
  },
  {
   "cell_type": "code",
   "execution_count": 19,
   "id": "e70a4e78-620b-4975-be4c-6a8eea63f1ff",
   "metadata": {},
   "outputs": [
    {
     "name": "stdout",
     "output_type": "stream",
     "text": [
      "Generators\n",
      "0\n",
      "1\n",
      "8\n",
      "27\n",
      "64\n",
      "125\n",
      "216\n",
      "343\n",
      "512\n",
      "729\n",
      "1\n",
      "1\n",
      "2\n",
      "3\n",
      "5\n",
      "8\n",
      "13\n",
      "21\n",
      "34\n",
      "55\n",
      "h\n",
      "e\n",
      "l\n",
      "l\n",
      "o\n",
      "4\n",
      "5\n"
     ]
    }
   ],
   "source": [
    "# Generators\n",
    "print(\"Generators\")\n",
    "def create_cubes(n):\n",
    "    # Using normal function\n",
    "    # result=[]\n",
    "    # for x in range(n):\n",
    "    #     result.append(x**3)\n",
    "    # return result\n",
    "    # another way using generators\n",
    "    for x in range(n):\n",
    "        yield x**3\n",
    "for x in create_cubes(10):\n",
    "    print(x)\n",
    "def fibo(n):\n",
    "    a=1\n",
    "    b=1\n",
    "    for i in range(n):\n",
    "        yield a\n",
    "        a,b = b,a+b\n",
    "for num in fibo(10):\n",
    "    print(num)\n",
    "# For Strings\n",
    "s = 'hello'\n",
    "s_iter = iter(s)\n",
    "print(next(s_iter))\n",
    "print(next(s_iter))\n",
    "print(next(s_iter))\n",
    "print(next(s_iter))\n",
    "print(next(s_iter))\n",
    "# for l in s:\n",
    "#     print(l)\n",
    "list = [1,2,3,4,5]\n",
    "gencomp = (item for item in list if item > 3)\n",
    "for item in gencomp:\n",
    "    print(item)"
   ]
  },
  {
   "cell_type": "code",
   "execution_count": 27,
   "id": "6869f8f8-b2bd-4bf3-a7d5-6514ea93cd19",
   "metadata": {},
   "outputs": [
    {
     "name": "stdout",
     "output_type": "stream",
     "text": [
      "(250, b'smtp.gmail.com at your service, [2401:4900:6578:90f2:c555:4b1d:5d4:2a89]\\nSIZE 35882577\\n8BITMIME\\nSTARTTLS\\nENHANCEDSTATUSCODES\\nPIPELINING\\nCHUNKING\\nSMTPUTF8') \n",
      "\n",
      "(220, b'2.0.0 Ready to start TLS') \n",
      "\n"
     ]
    },
    {
     "name": "stdout",
     "output_type": "stream",
     "text": [
      "enter your pwd:  ········\n"
     ]
    }
   ],
   "source": [
    "# Sending Emails via Python\n",
    "import smtplib\n",
    "import getpass\n",
    "smtp_obj = smtplib.SMTP('smtp.gmail.com',587)\n",
    "print(smtp_obj.ehlo(), \"\\n\")\n",
    "print(smtp_obj.starttls(), \"\\n\")\n",
    "pwd = getpass.getpass('enter your pwd: ')"
   ]
  },
  {
   "cell_type": "code",
   "execution_count": 5,
   "id": "5606843a-d4cf-4952-a0ef-dba02c293b83",
   "metadata": {},
   "outputs": [
    {
     "name": "stdout",
     "output_type": "stream",
     "text": [
      "0xc\n",
      "0x200\n",
      "0b10011010010\n",
      "0b10000000\n",
      "1\n",
      "3\n",
      "4\n",
      "2\n"
     ]
    }
   ],
   "source": [
    "# Advanced Numbers\n",
    "print(hex(12)) # hexadecimal\n",
    "print(hex(512))\n",
    "print(bin(1234)) # binary\n",
    "print(bin(128))\n",
    "print(pow(2,4,3)) # (x**y)%z\n",
    "print(round(3.1)) # rounding off\n",
    "print(round(3.9))\n",
    "print(abs(-2))"
   ]
  },
  {
   "cell_type": "code",
   "execution_count": 13,
   "id": "28b198ad-8c67-4155-b1cd-9a2f2c954edf",
   "metadata": {},
   "outputs": [
    {
     "name": "stdout",
     "output_type": "stream",
     "text": [
      "Hello world\n",
      "HELLO WORLD\n",
      "hello world\n",
      "2\n",
      "zzzzhello worldzzzzz\n",
      "False\n",
      "['h', 'llo world']\n",
      "('he', 'l', 'lo world')\n"
     ]
    }
   ],
   "source": [
    "# Advanced Strings\n",
    "s = 'hello world'\n",
    "print(s.capitalize())\n",
    "print(s.upper())\n",
    "print(s.lower())\n",
    "print(s.count('o'))\n",
    "print(s.center(20,'z'))\n",
    "print(s.isalnum())\n",
    "print(s.split('e')) # splits at every instance \n",
    "print(s.partition('l')) # splits at only first instance"
   ]
  },
  {
   "cell_type": "code",
   "execution_count": 26,
   "id": "c230e385-8bf4-4dc3-8ed1-771dc5a55e5d",
   "metadata": {},
   "outputs": [
    {
     "name": "stdout",
     "output_type": "stream",
     "text": [
      "{1, 2, 3}\n",
      "{1, 2, 3}\n",
      "{4}\n",
      "{1, 2, 3}\n",
      "{1, 2}\n",
      "False\n",
      "True\n",
      "True\n",
      "True\n",
      "{4}\n"
     ]
    }
   ],
   "source": [
    "# Advanced Sets\n",
    "s = set()\n",
    "s.add(1)\n",
    "s.add(2)\n",
    "s.add(3)\n",
    "print(s)\n",
    "sc = s.copy()\n",
    "print(sc)\n",
    "s.add(4)\n",
    "print(s.difference(sc))\n",
    "s.discard(4)\n",
    "print(s)\n",
    "s1 = {1,2}\n",
    "s2 = {1,2,4}\n",
    "s3 = {5}\n",
    "print(s1.intersection(s2))\n",
    "print(s1.isdisjoint(s2))\n",
    "print(s1.isdisjoint(s3))\n",
    "print(s1.issubset(s2))\n",
    "print(s2.issuperset(s1))\n",
    "print(s1.symmetric_difference(s2))"
   ]
  },
  {
   "cell_type": "code",
   "execution_count": 46,
   "id": "28070f8b-fc59-4dd0-846c-9c15063ce74c",
   "metadata": {},
   "outputs": [
    {
     "name": "stdout",
     "output_type": "stream",
     "text": [
      "None\n",
      "1\n",
      "[1, 2, 3, 4, 5, 6]\n",
      "1\n",
      "[1, 2, 'moodu', 3, 4, 5, 6]\n",
      "[1, 2, 'moodu', 4, 5, 6]\n"
     ]
    }
   ],
   "source": [
    "# Advanced Lists\n",
    "l = [1,2,3]\n",
    "print(l.append(4))\n",
    "print(l.count(1))\n",
    "l.extend([5,6])\n",
    "print(l)\n",
    "print(l.index(2))\n",
    "l.insert(2,'moodu')\n",
    "print(l)\n",
    "l.pop(3)\n",
    "print(l)"
   ]
  },
  {
   "cell_type": "code",
   "execution_count": 35,
   "id": "dcbd43b0-53d8-4bd8-ac41-0d89d25100fa",
   "metadata": {},
   "outputs": [
    {
     "name": "stdout",
     "output_type": "stream",
     "text": [
      "0b10000000000\n",
      "0x400\n",
      "\n",
      "5.23\n",
      "\n",
      "False\n",
      "\n",
      "12\n",
      "\n",
      "{2}\n",
      "\n",
      "{1, 2, 3, 5, 6, 7, 8}\n",
      "\n",
      "{0: 0, 1: 1, 2: 8, 3: 27, 4: 64}\n",
      "\n",
      "[4, 3, 2, 1]\n",
      "\n",
      "[1, 2, 3, 4, 5]\n"
     ]
    }
   ],
   "source": [
    "# Advanced Python Object Test\n",
    "# Problem 1: Convert 1024 to binary and hexadecimal representation\n",
    "print(bin(1024))\n",
    "print(hex(1024))\n",
    "print()\n",
    "# Problem 2: Round 5.23222 to two decimal places\n",
    "print(round(5.23222,2))\n",
    "print()\n",
    "# Problem 3: Check if every letter in the string s is lower case\n",
    "s = 'hello how are you Mary, are you feeling okay?'\n",
    "print(s.islower())\n",
    "print()\n",
    "# Problem 4: How many times does the letter 'w' show up in the string below?\n",
    "s = 'twywywtwywbwhsjhwuwshshwuwwwjdjdid'\n",
    "print(s.count('w'))\n",
    "print()\n",
    "# Problem 5: Find the elements in set1 that are not in set2:\n",
    "set1 = {2,3,1,5,6,8}\n",
    "set2 = {3,1,7,5,6,8}\n",
    "print(set1.difference(set2))\n",
    "print()\n",
    "# Problem 6: Find all elements that are in either set:\n",
    "print(set1.union(set2))\n",
    "print()\n",
    "# Problem 7: Create this dictionary: {0: 0, 1: 1, 2: 8, 3: 27, 4: 64} using a dictionary comprehension.\n",
    "print({x:x**3 for x in range(5)})\n",
    "print()\n",
    "# Problem 8: Reverse the list below:\n",
    "list1 = [1,2,3,4]\n",
    "list1.reverse()\n",
    "print(list1)\n",
    "print()\n",
    "# Problem 9: Sort the list below:\n",
    "list2 = [3,4,2,5,1]\n",
    "list2.sort()\n",
    "print(list2)"
   ]
  },
  {
   "cell_type": "code",
   "execution_count": 14,
   "id": "65fe9968-907a-4ba4-a891-85119c0a5a09",
   "metadata": {},
   "outputs": [
    {
     "data": {
      "application/vnd.jupyter.widget-view+json": {
       "model_id": "0b2f99f0ba02417aa3848264f6ae18ae",
       "version_major": 2,
       "version_minor": 0
      },
      "text/plain": [
       "interactive(children=(IntSlider(value=10, description='x', max=30, min=-10), Output()), _dom_classes=('widget-…"
      ]
     },
     "metadata": {},
     "output_type": "display_data"
    },
    {
     "name": "stdout",
     "output_type": "stream",
     "text": [
      "<function func at 0x000001B171E3F060>\n"
     ]
    },
    {
     "data": {
      "application/vnd.jupyter.widget-view+json": {
       "model_id": "c1e8ade777ff4cc1857a92315f43cc50",
       "version_major": 2,
       "version_minor": 0
      },
      "text/plain": [
       "interactive(children=(Checkbox(value=True, description='x'), Output()), _dom_classes=('widget-interact',))"
      ]
     },
     "metadata": {},
     "output_type": "display_data"
    },
    {
     "name": "stdout",
     "output_type": "stream",
     "text": [
      "<function func at 0x000001B171E3F060>\n"
     ]
    },
    {
     "data": {
      "application/vnd.jupyter.widget-view+json": {
       "model_id": "9d7100bc5bba43d8892314abd47075f3",
       "version_major": 2,
       "version_minor": 0
      },
      "text/plain": [
       "interactive(children=(Output(),), _dom_classes=('widget-interact',))"
      ]
     },
     "metadata": {},
     "output_type": "display_data"
    },
    {
     "name": "stdout",
     "output_type": "stream",
     "text": [
      "<function func at 0x000001B171E3F060>\n"
     ]
    },
    {
     "data": {
      "application/vnd.jupyter.widget-view+json": {
       "model_id": "1ef320ede6e24f78a1a0aedeba552842",
       "version_major": 2,
       "version_minor": 0
      },
      "text/plain": [
       "interactive(children=(Checkbox(value=True, description='x'), FloatSlider(value=1.0, description='y', max=3.0, …"
      ]
     },
     "metadata": {},
     "output_type": "display_data"
    },
    {
     "data": {
      "application/vnd.jupyter.widget-view+json": {
       "model_id": "1ab1577db63b41749b648fb6814bd5b4",
       "version_major": 2,
       "version_minor": 0
      },
      "text/plain": [
       "interactive(children=(IntSlider(value=0, description='x', min=-100), Output()), _dom_classes=('widget-interact…"
      ]
     },
     "metadata": {},
     "output_type": "display_data"
    },
    {
     "name": "stdout",
     "output_type": "stream",
     "text": [
      "<function func at 0x000001B171E3F060>\n"
     ]
    },
    {
     "data": {
      "application/vnd.jupyter.widget-view+json": {
       "model_id": "fe6766d92cf0483181879bc3eebb8dbb",
       "version_major": 2,
       "version_minor": 0
      },
      "text/plain": [
       "interactive(children=(Dropdown(description='x', options=('hello', 'hola', 'bonjour'), value='hello'), Output()…"
      ]
     },
     "metadata": {},
     "output_type": "display_data"
    },
    {
     "name": "stdout",
     "output_type": "stream",
     "text": [
      "<function func at 0x000001B171E3F060>\n"
     ]
    },
    {
     "data": {
      "application/vnd.jupyter.widget-view+json": {
       "model_id": "398e5eb16da34dbdb03f893110a6b8b4",
       "version_major": 2,
       "version_minor": 0
      },
      "text/plain": [
       "interactive(children=(Dropdown(description='x', options={'one': 10, 'two': 20}, value=10), Output()), _dom_cla…"
      ]
     },
     "metadata": {},
     "output_type": "display_data"
    },
    {
     "name": "stdout",
     "output_type": "stream",
     "text": [
      "<function func at 0x000001B171E3F060>\n",
      "<class 'ipywidgets.widgets.interaction.interactive'>\n",
      "(IntSlider(value=10, description='a', max=30, min=-10), IntSlider(value=20, description='b', max=60, min=-20), Output())\n"
     ]
    },
    {
     "data": {
      "application/vnd.jupyter.widget-view+json": {
       "model_id": "875d15e4d7c64f568b8d2f1c7383d50d",
       "version_major": 2,
       "version_minor": 0
      },
      "text/plain": [
       "interactive(children=(IntSlider(value=10, description='a', max=30, min=-10), IntSlider(value=20, description='…"
      ]
     },
     "metadata": {},
     "output_type": "display_data"
    },
    {
     "name": "stdout",
     "output_type": "stream",
     "text": [
      "None\n"
     ]
    }
   ],
   "source": [
    "# GUIs\n",
    "\n",
    "# Interact function\n",
    "from ipywidgets import interact,interactive,fixed\n",
    "import ipywidgets as widgets\n",
    "\n",
    "def func(x):\n",
    "    return x\n",
    "\n",
    "print(interact(func,x=10)) # interact function\n",
    "print(interact(func,x=True))\n",
    "print(interact(func,x=fixed('Hello')))\n",
    "\n",
    "@interact(x=True,y=1.0)   # Using Decorators\n",
    "def g(x,y):\n",
    "    return (x,y)\n",
    "\n",
    "print(interact(func,x=widgets.IntSlider(min=-100,max=100,step=1,value=0)))\n",
    "print(interact(func,x=['hello','hola','bonjour'])) # Lists\n",
    "print(interact(func,x={'one':10,'two':20})) # Dictionaries\n",
    "\n",
    "# Interactive Function\n",
    "from IPython.display import display\n",
    "def f(a,b):\n",
    "    display(a+b)\n",
    "    return a+b\n",
    "w = interactive(f,a=10,b=20)\n",
    "print(type(w))\n",
    "print(w.children)\n",
    "print(display(w))\n",
    "\n",
    "widgets.Image"
   ]
  },
  {
   "cell_type": "code",
   "execution_count": 4,
   "id": "76c6234c-0f17-4bea-b5e2-5ece46c44e2e",
   "metadata": {},
   "outputs": [
    {
     "data": {
      "application/vnd.jupyter.widget-view+json": {
       "model_id": "18f4488edaa0445692fc1cd3b71f208e",
       "version_major": 2,
       "version_minor": 0
      },
      "text/plain": [
       "IntSlider(value=0)"
      ]
     },
     "metadata": {},
     "output_type": "display_data"
    },
    {
     "data": {
      "application/vnd.jupyter.widget-view+json": {
       "model_id": "0a1ce41f20e040d4a0d583544a4c4076",
       "version_major": 2,
       "version_minor": 0
      },
      "text/plain": [
       "FloatText(value=0.0)"
      ]
     },
     "metadata": {},
     "output_type": "display_data"
    },
    {
     "data": {
      "application/vnd.jupyter.widget-view+json": {
       "model_id": "00b13f19d3674f3aa1667600e0e89176",
       "version_major": 2,
       "version_minor": 0
      },
      "text/plain": [
       "FloatSlider(value=0.0)"
      ]
     },
     "metadata": {},
     "output_type": "display_data"
    }
   ],
   "source": [
    " # WIDGETS\n",
    "import ipywidgets as widgets\n",
    "from IPython.display import display\n",
    "w=widgets.IntSlider()\n",
    "display(w)\n",
    "w.layout.margin = 'auto'\n",
    "w.layout.height = '75px'\n",
    "\n",
    "a = widgets.FloatText()\n",
    "b = widgets.FloatSlider()\n",
    "display(a,b)\n",
    "mylink = widgets.jslink((a,'value'),(b,'value'))\n",
    "\n",
    "# To know all the widgets available\n",
    "# for item in widgets.Widget.widget_types.items():\n",
    "#     print(item[0])"
   ]
  },
  {
   "cell_type": "code",
   "execution_count": 5,
   "id": "85c8c457",
   "metadata": {},
   "outputs": [
    {
     "data": {
      "text/plain": [
       "'c:\\\\CodeHustle\\\\Code101!!\\\\Python\\\\Code'"
      ]
     },
     "execution_count": 5,
     "metadata": {},
     "output_type": "execute_result"
    }
   ],
   "source": [
    "pwd"
   ]
  },
  {
   "cell_type": "code",
   "execution_count": 9,
   "id": "d5872414",
   "metadata": {},
   "outputs": [
    {
     "data": {
      "text/plain": [
       "'I am super cool'"
      ]
     },
     "execution_count": 9,
     "metadata": {},
     "output_type": "execute_result"
    }
   ],
   "source": [
    "# Decorators\n",
    "def func():\n",
    "    return 'Hello'\n",
    "func()\n",
    "greet = func # assigning a variable to the function name and calling it\n",
    "greet()\n",
    "\n",
    "# function in another function\n",
    "def cool():\n",
    "    def super_cool():\n",
    "        return 'I am super cool'\n",
    "    return super_cool\n",
    "some_func = cool()\n",
    "some_func()\n",
    "\n"
   ]
  }
 ],
 "metadata": {
  "kernelspec": {
   "display_name": "Python 3 (ipykernel)",
   "language": "python",
   "name": "python3"
  },
  "language_info": {
   "codemirror_mode": {
    "name": "ipython",
    "version": 3
   },
   "file_extension": ".py",
   "mimetype": "text/x-python",
   "name": "python",
   "nbconvert_exporter": "python",
   "pygments_lexer": "ipython3",
   "version": "3.12.0"
  }
 },
 "nbformat": 4,
 "nbformat_minor": 5
}
